{
 "cells": [
  {
   "cell_type": "markdown",
   "id": "9a33a292",
   "metadata": {},
   "source": [
    "# Network Analysis-Assignment 2\n",
    "#### James Mallen, 19346861"
   ]
  },
  {
   "cell_type": "markdown",
   "id": "7bbb6e4e",
   "metadata": {},
   "source": [
    "#### For my data, I will construct, and characterise a pre-collected set of data from the RUGBY list and create the following\n",
    "\n",
    "- Follower Network\n",
    "- Mention Network\n",
    "- Reply Network\n",
    "- User-hastag network\n",
    "- Hashtag co-occurrence network"
   ]
  },
  {
   "cell_type": "markdown",
   "id": "ac4a9ad0",
   "metadata": {},
   "source": [
    "I straight away just took all my libraries from assignment 1 as it is likely I will need them once again."
   ]
  },
  {
   "cell_type": "markdown",
   "id": "36422bcf",
   "metadata": {},
   "source": [
    "For some reason nx was giving an odd error when code should have been running this issue seems to be a new one \n",
    "https://github.com/microsoft/CyberBattleSim/issues/4 is where I found the solution it may require the user to restart their kernal + output"
   ]
  },
  {
   "cell_type": "code",
   "execution_count": 1,
   "id": "48b10fd4",
   "metadata": {},
   "outputs": [
    {
     "name": "stdout",
     "output_type": "stream",
     "text": [
      "Requirement already satisfied: decorator==4.3 in c:\\users\\james\\anaconda3\\lib\\site-packages (4.3.0)\n",
      "Note: you may need to restart the kernel to use updated packages.\n"
     ]
    }
   ],
   "source": [
    "pip install decorator==4.3"
   ]
  },
  {
   "cell_type": "code",
   "execution_count": 2,
   "id": "806ada38",
   "metadata": {},
   "outputs": [],
   "source": [
    "import networkx as nx\n",
    "import os.path\n",
    "import numpy as np\n",
    "from networkx import Graph\n",
    "import pandas as pd\n",
    "import matplotlib\n",
    "from typing import Union\n",
    "import json\n",
    "import itertools\n",
    "import matplotlib.pyplot as plt\n",
    "import seaborn as sn\n",
    "%matplotlib inline\n"
   ]
  },
  {
   "cell_type": "markdown",
   "id": "9a55454d",
   "metadata": {},
   "source": [
    "## Follower Network"
   ]
  },
  {
   "cell_type": "markdown",
   "id": "6dc26296",
   "metadata": {},
   "source": [
    "#### This is a network of a csv file where it is a network of who follows eachother in the rugby twitter space"
   ]
  },
  {
   "cell_type": "code",
   "execution_count": 3,
   "id": "3d1822a1",
   "metadata": {},
   "outputs": [],
   "source": [
    "# create the network using nx so I can start\n",
    "\n",
    "#used below https://networkx.org/documentation/stable/reference/readwrite/generated/networkx.readwrite.edgelist.write_edgelist.html\n",
    "Follower= nx.read_edgelist(\"friendships.csv\" , delimiter = \"\\t\", create_using=nx.DiGraph)\n"
   ]
  },
  {
   "cell_type": "markdown",
   "id": "06904c24",
   "metadata": {},
   "source": [
    "### I have now created a very simple direct and unweighted  network\n",
    "- It is unweighted as one account as a follower is not seen as more valuable than another\n",
    "- Direct as we need to know if people are following EACH-other as we all know a following on social media works 2 ways \n",
    "- Strongly connected networks are ones that if every vertex is reachable from every other vertex\n",
    "- Network density refers to a measure of the prevalence of dyadic linkage or direct tie within a social network, In this case we are at 67.5% density which means that 587 is 67.5% of the total possible edges"
   ]
  },
  {
   "cell_type": "code",
   "execution_count": 4,
   "id": "855e81b3",
   "metadata": {},
   "outputs": [
    {
     "name": "stdout",
     "output_type": "stream",
     "text": [
      "Number of nodes: 30\n"
     ]
    }
   ],
   "source": [
    "print(\"Number of nodes:\",Follower.number_of_nodes())\n"
   ]
  },
  {
   "cell_type": "markdown",
   "id": "b80c5d99",
   "metadata": {},
   "source": [
    "There is 30 different Twitter accounts in this network"
   ]
  },
  {
   "cell_type": "code",
   "execution_count": 5,
   "id": "b72ba57e",
   "metadata": {},
   "outputs": [
    {
     "name": "stdout",
     "output_type": "stream",
     "text": [
      "Number of edges 587\n"
     ]
    }
   ],
   "source": [
    " print(\"Number of edges\",Follower.number_of_edges())"
   ]
  },
  {
   "cell_type": "markdown",
   "id": "49abf748",
   "metadata": {},
   "source": [
    "There is 587 \"accounts\" of accounts following other profiles"
   ]
  },
  {
   "cell_type": "code",
   "execution_count": 6,
   "id": "19c5ad10",
   "metadata": {},
   "outputs": [
    {
     "name": "stdout",
     "output_type": "stream",
     "text": [
      "True\n"
     ]
    }
   ],
   "source": [
    "print(nx.is_strongly_connected(Follower))"
   ]
  },
  {
   "cell_type": "code",
   "execution_count": 7,
   "id": "710c60fe",
   "metadata": {},
   "outputs": [
    {
     "name": "stdout",
     "output_type": "stream",
     "text": [
      "0.674713\n"
     ]
    }
   ],
   "source": [
    "print(\"%3f\" %nx.density(Follower))"
   ]
  },
  {
   "cell_type": "markdown",
   "id": "5666f2c5",
   "metadata": {},
   "source": [
    "Defining below will save a lot of time as I can see In Degree being used a lot throughout the project\n",
    "- in Degree is the number of nodes coming into a node and out degree is simply the opposite"
   ]
  },
  {
   "cell_type": "code",
   "execution_count": 8,
   "id": "29d214a2",
   "metadata": {},
   "outputs": [
    {
     "data": {
      "text/html": [
       "<div>\n",
       "<style scoped>\n",
       "    .dataframe tbody tr th:only-of-type {\n",
       "        vertical-align: middle;\n",
       "    }\n",
       "\n",
       "    .dataframe tbody tr th {\n",
       "        vertical-align: top;\n",
       "    }\n",
       "\n",
       "    .dataframe thead th {\n",
       "        text-align: right;\n",
       "    }\n",
       "</style>\n",
       "<table border=\"1\" class=\"dataframe\">\n",
       "  <thead>\n",
       "    <tr style=\"text-align: right;\">\n",
       "      <th></th>\n",
       "      <th>In Degree</th>\n",
       "    </tr>\n",
       "  </thead>\n",
       "  <tbody>\n",
       "    <tr>\n",
       "      <th>worldrugby</th>\n",
       "      <td>27</td>\n",
       "    </tr>\n",
       "    <tr>\n",
       "      <th>championscup</th>\n",
       "      <td>27</td>\n",
       "    </tr>\n",
       "    <tr>\n",
       "      <th>englandrugby</th>\n",
       "      <td>25</td>\n",
       "    </tr>\n",
       "    <tr>\n",
       "      <th>rugbyworldcup</th>\n",
       "      <td>25</td>\n",
       "    </tr>\n",
       "    <tr>\n",
       "      <th>sixnationsrugby</th>\n",
       "      <td>24</td>\n",
       "    </tr>\n",
       "  </tbody>\n",
       "</table>\n",
       "</div>"
      ],
      "text/plain": [
       "                 In Degree\n",
       "worldrugby              27\n",
       "championscup            27\n",
       "englandrugby            25\n",
       "rugbyworldcup           25\n",
       "sixnationsrugby         24"
      ]
     },
     "execution_count": 8,
     "metadata": {},
     "output_type": "execute_result"
    }
   ],
   "source": [
    "def inDegree(net: nx.DiGraph, weight:str = None) -> pd.DataFrame:\n",
    "    in_degrees = pd.Series(dict(net.in_degree(weight=weight)),name=\"In Degree\").sort_values(ascending=False)\n",
    "    return pd.DataFrame(in_degrees)\n",
    "\n",
    "\n",
    "indegree1 = inDegree(Follower)\n",
    "indegree1.head()"
   ]
  },
  {
   "cell_type": "code",
   "execution_count": 9,
   "id": "d82210d6",
   "metadata": {},
   "outputs": [
    {
     "data": {
      "text/html": [
       "<div>\n",
       "<style scoped>\n",
       "    .dataframe tbody tr th:only-of-type {\n",
       "        vertical-align: middle;\n",
       "    }\n",
       "\n",
       "    .dataframe tbody tr th {\n",
       "        vertical-align: top;\n",
       "    }\n",
       "\n",
       "    .dataframe thead th {\n",
       "        text-align: right;\n",
       "    }\n",
       "</style>\n",
       "<table border=\"1\" class=\"dataframe\">\n",
       "  <thead>\n",
       "    <tr style=\"text-align: right;\">\n",
       "      <th></th>\n",
       "      <th>Out Degree</th>\n",
       "    </tr>\n",
       "  </thead>\n",
       "  <tbody>\n",
       "    <tr>\n",
       "      <th>championscup</th>\n",
       "      <td>29</td>\n",
       "    </tr>\n",
       "    <tr>\n",
       "      <th>exeterchiefs</th>\n",
       "      <td>28</td>\n",
       "    </tr>\n",
       "    <tr>\n",
       "      <th>urcofficial</th>\n",
       "      <td>26</td>\n",
       "    </tr>\n",
       "    <tr>\n",
       "      <th>racing92</th>\n",
       "      <td>25</td>\n",
       "    </tr>\n",
       "    <tr>\n",
       "      <th>englandrugby</th>\n",
       "      <td>24</td>\n",
       "    </tr>\n",
       "  </tbody>\n",
       "</table>\n",
       "</div>"
      ],
      "text/plain": [
       "              Out Degree\n",
       "championscup          29\n",
       "exeterchiefs          28\n",
       "urcofficial           26\n",
       "racing92              25\n",
       "englandrugby          24"
      ]
     },
     "execution_count": 9,
     "metadata": {},
     "output_type": "execute_result"
    }
   ],
   "source": [
    "def outDegree(net: nx.DiGraph, weight:str = None) -> pd.DataFrame:\n",
    "    out_degrees = pd.Series(dict(net.out_degree(weight=weight)),name=\"Out Degree\").sort_values(ascending=False)\n",
    "    return pd.DataFrame(out_degrees)\n",
    "\n",
    "\n",
    "outdegree1 = outDegree(Follower)\n",
    "outdegree1.head()"
   ]
  },
  {
   "cell_type": "code",
   "execution_count": 10,
   "id": "5a7a2856",
   "metadata": {},
   "outputs": [
    {
     "name": "stdout",
     "output_type": "stream",
     "text": [
      "Average Clustering Coefficient: 0.73357187195334\n"
     ]
    }
   ],
   "source": [
    "print(\"Average Clustering Coefficient:\",nx.average_clustering(Follower))\n"
   ]
  },
  {
   "cell_type": "code",
   "execution_count": 11,
   "id": "dcf551f3",
   "metadata": {},
   "outputs": [
    {
     "data": {
      "text/html": [
       "<div>\n",
       "<style scoped>\n",
       "    .dataframe tbody tr th:only-of-type {\n",
       "        vertical-align: middle;\n",
       "    }\n",
       "\n",
       "    .dataframe tbody tr th {\n",
       "        vertical-align: top;\n",
       "    }\n",
       "\n",
       "    .dataframe thead th {\n",
       "        text-align: right;\n",
       "    }\n",
       "</style>\n",
       "<table border=\"1\" class=\"dataframe\">\n",
       "  <thead>\n",
       "    <tr style=\"text-align: right;\">\n",
       "      <th></th>\n",
       "      <th>ClusteringMeasure</th>\n",
       "    </tr>\n",
       "  </thead>\n",
       "  <tbody>\n",
       "    <tr>\n",
       "      <th>womens6nations</th>\n",
       "      <td>0.889655</td>\n",
       "    </tr>\n",
       "    <tr>\n",
       "      <th>saintsrugby</th>\n",
       "      <td>0.817187</td>\n",
       "    </tr>\n",
       "    <tr>\n",
       "      <th>saracens</th>\n",
       "      <td>0.800546</td>\n",
       "    </tr>\n",
       "    <tr>\n",
       "      <th>rugby_ie</th>\n",
       "      <td>0.768559</td>\n",
       "    </tr>\n",
       "    <tr>\n",
       "      <th>scotlandteam</th>\n",
       "      <td>0.767906</td>\n",
       "    </tr>\n",
       "    <tr>\n",
       "      <th>irishrugby</th>\n",
       "      <td>0.763434</td>\n",
       "    </tr>\n",
       "    <tr>\n",
       "      <th>harlequins</th>\n",
       "      <td>0.758721</td>\n",
       "    </tr>\n",
       "    <tr>\n",
       "      <th>bristolbears</th>\n",
       "      <td>0.750812</td>\n",
       "    </tr>\n",
       "    <tr>\n",
       "      <th>munsterrugby</th>\n",
       "      <td>0.746998</td>\n",
       "    </tr>\n",
       "    <tr>\n",
       "      <th>federugby</th>\n",
       "      <td>0.746050</td>\n",
       "    </tr>\n",
       "    <tr>\n",
       "      <th>stadetoulousain</th>\n",
       "      <td>0.740550</td>\n",
       "    </tr>\n",
       "    <tr>\n",
       "      <th>premrugby</th>\n",
       "      <td>0.740406</td>\n",
       "    </tr>\n",
       "    <tr>\n",
       "      <th>rugbyworldcup</th>\n",
       "      <td>0.738710</td>\n",
       "    </tr>\n",
       "    <tr>\n",
       "      <th>urcofficial</th>\n",
       "      <td>0.734809</td>\n",
       "    </tr>\n",
       "    <tr>\n",
       "      <th>leinsterrugby</th>\n",
       "      <td>0.734122</td>\n",
       "    </tr>\n",
       "    <tr>\n",
       "      <th>sfparisrugby</th>\n",
       "      <td>0.724619</td>\n",
       "    </tr>\n",
       "    <tr>\n",
       "      <th>welshrugbyunion</th>\n",
       "      <td>0.724174</td>\n",
       "    </tr>\n",
       "    <tr>\n",
       "      <th>skysportsrugby</th>\n",
       "      <td>0.720414</td>\n",
       "    </tr>\n",
       "    <tr>\n",
       "      <th>englandrugby</th>\n",
       "      <td>0.714038</td>\n",
       "    </tr>\n",
       "    <tr>\n",
       "      <th>ulsterrugby</th>\n",
       "      <td>0.712598</td>\n",
       "    </tr>\n",
       "    <tr>\n",
       "      <th>rctofficiel</th>\n",
       "      <td>0.711829</td>\n",
       "    </tr>\n",
       "    <tr>\n",
       "      <th>francerugby</th>\n",
       "      <td>0.705527</td>\n",
       "    </tr>\n",
       "    <tr>\n",
       "      <th>racing92</th>\n",
       "      <td>0.700676</td>\n",
       "    </tr>\n",
       "    <tr>\n",
       "      <th>exeterchiefs</th>\n",
       "      <td>0.695481</td>\n",
       "    </tr>\n",
       "    <tr>\n",
       "      <th>worldrugby</th>\n",
       "      <td>0.693291</td>\n",
       "    </tr>\n",
       "    <tr>\n",
       "      <th>sixnationsrugby</th>\n",
       "      <td>0.692743</td>\n",
       "    </tr>\n",
       "    <tr>\n",
       "      <th>connachtrugby</th>\n",
       "      <td>0.691197</td>\n",
       "    </tr>\n",
       "    <tr>\n",
       "      <th>mhr_officiel</th>\n",
       "      <td>0.681015</td>\n",
       "    </tr>\n",
       "    <tr>\n",
       "      <th>asmofficiel</th>\n",
       "      <td>0.677835</td>\n",
       "    </tr>\n",
       "    <tr>\n",
       "      <th>championscup</th>\n",
       "      <td>0.663252</td>\n",
       "    </tr>\n",
       "  </tbody>\n",
       "</table>\n",
       "</div>"
      ],
      "text/plain": [
       "                 ClusteringMeasure\n",
       "womens6nations            0.889655\n",
       "saintsrugby               0.817187\n",
       "saracens                  0.800546\n",
       "rugby_ie                  0.768559\n",
       "scotlandteam              0.767906\n",
       "irishrugby                0.763434\n",
       "harlequins                0.758721\n",
       "bristolbears              0.750812\n",
       "munsterrugby              0.746998\n",
       "federugby                 0.746050\n",
       "stadetoulousain           0.740550\n",
       "premrugby                 0.740406\n",
       "rugbyworldcup             0.738710\n",
       "urcofficial               0.734809\n",
       "leinsterrugby             0.734122\n",
       "sfparisrugby              0.724619\n",
       "welshrugbyunion           0.724174\n",
       "skysportsrugby            0.720414\n",
       "englandrugby              0.714038\n",
       "ulsterrugby               0.712598\n",
       "rctofficiel               0.711829\n",
       "francerugby               0.705527\n",
       "racing92                  0.700676\n",
       "exeterchiefs              0.695481\n",
       "worldrugby                0.693291\n",
       "sixnationsrugby           0.692743\n",
       "connachtrugby             0.691197\n",
       "mhr_officiel              0.681015\n",
       "asmofficiel               0.677835\n",
       "championscup              0.663252"
      ]
     },
     "execution_count": 11,
     "metadata": {},
     "output_type": "execute_result"
    }
   ],
   "source": [
    "Follower=pd.DataFrame.from_dict(nx.clustering(Follower), orient='index',columns = ['ClusteringMeasure'])\n",
    "Follower.sort_values(by='ClusteringMeasure', ascending=False)\n"
   ]
  },
  {
   "cell_type": "code",
   "execution_count": null,
   "id": "9821fabe",
   "metadata": {},
   "outputs": [],
   "source": []
  },
  {
   "cell_type": "markdown",
   "id": "bddd28b1",
   "metadata": {},
   "source": [
    "#### I will now make the network as it can be much easier to work with data when you can see it laid out infront of you"
   ]
  },
  {
   "cell_type": "code",
   "execution_count": null,
   "id": "6e332c59",
   "metadata": {},
   "outputs": [],
   "source": []
  },
  {
   "cell_type": "markdown",
   "id": "48540c57",
   "metadata": {},
   "source": []
  },
  {
   "cell_type": "code",
   "execution_count": null,
   "id": "3128fa7c",
   "metadata": {},
   "outputs": [],
   "source": []
  },
  {
   "cell_type": "code",
   "execution_count": 12,
   "id": "32f416b6",
   "metadata": {},
   "outputs": [
    {
     "ename": "AttributeError",
     "evalue": "'DataFrame' object has no attribute 'nodes'",
     "output_type": "error",
     "traceback": [
      "\u001b[1;31m---------------------------------------------------------------------------\u001b[0m",
      "\u001b[1;31mAttributeError\u001b[0m                            Traceback (most recent call last)",
      "\u001b[1;32m<ipython-input-12-647558f0ecda>\u001b[0m in \u001b[0;36m<module>\u001b[1;34m\u001b[0m\n\u001b[1;32m----> 1\u001b[1;33m \u001b[0mnodeLabels\u001b[0m\u001b[1;33m=\u001b[0m\u001b[0mdict\u001b[0m\u001b[1;33m(\u001b[0m\u001b[0mzip\u001b[0m\u001b[1;33m(\u001b[0m\u001b[0mFollower\u001b[0m\u001b[1;33m.\u001b[0m\u001b[0mnodes\u001b[0m\u001b[1;33m(\u001b[0m\u001b[1;33m)\u001b[0m\u001b[1;33m,\u001b[0m\u001b[0mFollower\u001b[0m\u001b[1;33m.\u001b[0m\u001b[0mnodes\u001b[0m\u001b[1;33m(\u001b[0m\u001b[1;33m)\u001b[0m\u001b[1;33m)\u001b[0m\u001b[1;33m)\u001b[0m\u001b[1;33m\u001b[0m\u001b[1;33m\u001b[0m\u001b[0m\n\u001b[0m\u001b[0;32m      2\u001b[0m \u001b[1;31m# use zip to bind the nodes so it can be acessed as a dict\u001b[0m\u001b[1;33m\u001b[0m\u001b[1;33m\u001b[0m\u001b[1;33m\u001b[0m\u001b[0m\n\u001b[0;32m      3\u001b[0m \u001b[1;31m#https://networkx.org/documentation/stable/reference/generated/networkx.drawing.layout.spring_layout.html\u001b[0m\u001b[1;33m\u001b[0m\u001b[1;33m\u001b[0m\u001b[1;33m\u001b[0m\u001b[0m\n",
      "\u001b[1;32m~\\anaconda3\\lib\\site-packages\\pandas\\core\\generic.py\u001b[0m in \u001b[0;36m__getattr__\u001b[1;34m(self, name)\u001b[0m\n\u001b[0;32m   5463\u001b[0m             \u001b[1;32mif\u001b[0m \u001b[0mself\u001b[0m\u001b[1;33m.\u001b[0m\u001b[0m_info_axis\u001b[0m\u001b[1;33m.\u001b[0m\u001b[0m_can_hold_identifiers_and_holds_name\u001b[0m\u001b[1;33m(\u001b[0m\u001b[0mname\u001b[0m\u001b[1;33m)\u001b[0m\u001b[1;33m:\u001b[0m\u001b[1;33m\u001b[0m\u001b[1;33m\u001b[0m\u001b[0m\n\u001b[0;32m   5464\u001b[0m                 \u001b[1;32mreturn\u001b[0m \u001b[0mself\u001b[0m\u001b[1;33m[\u001b[0m\u001b[0mname\u001b[0m\u001b[1;33m]\u001b[0m\u001b[1;33m\u001b[0m\u001b[1;33m\u001b[0m\u001b[0m\n\u001b[1;32m-> 5465\u001b[1;33m             \u001b[1;32mreturn\u001b[0m \u001b[0mobject\u001b[0m\u001b[1;33m.\u001b[0m\u001b[0m__getattribute__\u001b[0m\u001b[1;33m(\u001b[0m\u001b[0mself\u001b[0m\u001b[1;33m,\u001b[0m \u001b[0mname\u001b[0m\u001b[1;33m)\u001b[0m\u001b[1;33m\u001b[0m\u001b[1;33m\u001b[0m\u001b[0m\n\u001b[0m\u001b[0;32m   5466\u001b[0m \u001b[1;33m\u001b[0m\u001b[0m\n\u001b[0;32m   5467\u001b[0m     \u001b[1;32mdef\u001b[0m \u001b[0m__setattr__\u001b[0m\u001b[1;33m(\u001b[0m\u001b[0mself\u001b[0m\u001b[1;33m,\u001b[0m \u001b[0mname\u001b[0m\u001b[1;33m:\u001b[0m \u001b[0mstr\u001b[0m\u001b[1;33m,\u001b[0m \u001b[0mvalue\u001b[0m\u001b[1;33m)\u001b[0m \u001b[1;33m->\u001b[0m \u001b[1;32mNone\u001b[0m\u001b[1;33m:\u001b[0m\u001b[1;33m\u001b[0m\u001b[1;33m\u001b[0m\u001b[0m\n",
      "\u001b[1;31mAttributeError\u001b[0m: 'DataFrame' object has no attribute 'nodes'"
     ]
    }
   ],
   "source": [
    "nodeLabels=dict(zip(Follower.nodes(),Follower.nodes()))\n",
    "# use zip to bind the nodes so it can be acessed as a dict\n",
    "#https://networkx.org/documentation/stable/reference/generated/networkx.drawing.layout.spring_layout.html"
   ]
  },
  {
   "cell_type": "code",
   "execution_count": null,
   "id": "e75dd2ab",
   "metadata": {},
   "outputs": [],
   "source": [
    "plt.figure(figsize=(20, 10))\n",
    "position = nx.spring_layout(Follower,k=3)\n",
    "nx.draw(Follower, position,  node_size=1000,  node_color=\"lightblue\", edge_color=\"grey\", arrowsize=10)\n",
    "nx.draw_networkx_labels(Follower, position, nodeLabels,font_weight=\"bold\",font_size=12)\n",
    "plt.title(label = \"Follower Network\", fontsize = 30)\n",
    "plt.show()"
   ]
  },
  {
   "cell_type": "markdown",
   "id": "d5fb4e9b",
   "metadata": {},
   "source": [
    "#### Now with the graph in front of me I can see that it is teams from all around the world and I would like to be able to show this in a graph\n",
    "- organisations & competitions such as skysportsrugby or worldrugby will be given their own colour if not associated with a location i.e rugby_ie\n",
    "- https://python-graph-gallery.com/324-map-a-color-to-network-nodes for refrence"
   ]
  },
  {
   "cell_type": "code",
   "execution_count": null,
   "id": "d49d1e45",
   "metadata": {},
   "outputs": [],
   "source": [
    "#First we need to make a function for the graph to map each account to a country \n",
    "# g for use in a graph and of course we will start with ulsterrugby as we tend not to come first in anything else....\n",
    "\n",
    "def countrymap(g):\n",
    "    ireland = ['ulsterrugby', 'connachtrugby', 'munsterrugby','leinsterrugby', 'irishrugby', 'rugby_ie']\n",
    "    scotland = ['scotlandteam']\n",
    "    wales = ['welshrugbyunion']\n",
    "    italy = ['federugby']\n",
    "    france = ['sfparisrugby','mhr_rugby','stadetoulousain','asmofficial','rctofficial','racing92','france_rugby']\n",
    "    freeagent= ['rugbyworldcup','skysportsrugby','sixnationsrugby','premrugby','worldrugby','womens6nations','championscup','urcofficial']\n",
    "    england =['saracens','englandrugby','exterchiefs','bristolbears','harlequins','saintsrugby']\n",
    "    \n",
    "    for node in g.nodes():\n",
    "        if node in ireland:\n",
    "            g.nodes[node][\"Country\"]=\"Ireland\"\n",
    "        elif node in scotland:\n",
    "            g.nodes[node][\"Country\"]=\"Scotland\"\n",
    "        elif node in italy:\n",
    "            g.nodes[node][\"Country\"]=\"Italy\"\n",
    "        elif node in france:\n",
    "            g.nodes[node][\"Country\"]=\"France\"\n",
    "        elif node in freeagent:\n",
    "            g.nodes[node][\"Country\"]=\"Org/Comp\"\n",
    "        else:\n",
    "            g.nodes[node][\"Country\"]=\"England\"\n",
    "countrymap(Follower)\n",
    "\n",
    "#map colours to the country\n",
    "colourmap = {\"Ireland\":\"green\",\"Scotland\":\"blue\",\"Wales\":\"red\",\"Italy\":\"purple\",\"France\":\"yellow\",\"Org/Comp\":\"brown\",\"England\":\"orange\"}\n",
    "colour_map = []\n",
    "for node in Follower.nodes():\n",
    "    colour_map.append(colourmap[Follower.nodes[node][\"Country\"]])\n"
   ]
  },
  {
   "cell_type": "code",
   "execution_count": null,
   "id": "064c167d",
   "metadata": {},
   "outputs": [],
   "source": []
  },
  {
   "cell_type": "markdown",
   "id": "aad7cb7c",
   "metadata": {},
   "source": [
    "- Ireland = Green\n",
    "- Scotland = Blue\n",
    "- Wales = Red\n",
    "- Italy = Purple\n",
    "- France = Yellow\n",
    "- England = Orange\n",
    "- Org/Comp = Brown\n"
   ]
  },
  {
   "cell_type": "code",
   "execution_count": null,
   "id": "8ec7d1b7",
   "metadata": {},
   "outputs": [],
   "source": [
    "plt.figure(figsize=(20, 10))\n",
    "position = nx.spring_layout(Follower, k = 3)\n",
    "\n",
    "nx.draw(Follower, position, node_color=colour_map, node_size=1000, edge_color=\"grey\", arrowsize=10)\n",
    "nx.draw_networkx_labels(Follower, position, nodeLabels, font_size=10, font_weight=\"bold\")\n",
    "\n",
    "plt.title(label = \"Follower Network(Colour Coded)\", fontsize = 20)\n",
    "\n",
    "plt.show()"
   ]
  },
  {
   "cell_type": "markdown",
   "id": "4cc5e7ad",
   "metadata": {},
   "source": [
    "# Degree of Centrality\n",
    "- Measures the amount of nodes pointing towards a node i.e follower count of only nodes in this system\n",
    "- Video followed https://www.youtube.com/watch?v=XMDxpIXh-as"
   ]
  },
  {
   "cell_type": "code",
   "execution_count": null,
   "id": "7a3cc152",
   "metadata": {},
   "outputs": [],
   "source": [
    "\n"
   ]
  },
  {
   "cell_type": "code",
   "execution_count": null,
   "id": "d26db9d2",
   "metadata": {},
   "outputs": [],
   "source": []
  },
  {
   "cell_type": "code",
   "execution_count": null,
   "id": "d0f91769",
   "metadata": {},
   "outputs": [],
   "source": []
  },
  {
   "cell_type": "code",
   "execution_count": null,
   "id": "cf3e85d0",
   "metadata": {},
   "outputs": [],
   "source": []
  },
  {
   "cell_type": "markdown",
   "id": "a38d3724",
   "metadata": {},
   "source": [
    "## Mention Network \n",
    "- Task 2 "
   ]
  },
  {
   "cell_type": "code",
   "execution_count": null,
   "id": "58ea6221",
   "metadata": {},
   "outputs": [],
   "source": [
    "json_file1 = open(\"rugby/tweets.jsonl\",\"r\")\n",
    "\n",
    "# accesses the file tweets\n",
    "\n",
    "with open('rugby/tweets.jsonl') as f:\n",
    "    tweets_df = pd.DataFrame(json.loads(line.strip()) for line in f)\n",
    "\n",
    "tweets_df.columns # This will give us all the 'id's of every piece of data in the json file\n"
   ]
  },
  {
   "cell_type": "code",
   "execution_count": null,
   "id": "6e8777f9",
   "metadata": {},
   "outputs": [],
   "source": [
    "display(tweets_df.head(2)) # example of an entry\n"
   ]
  },
  {
   "cell_type": "markdown",
   "id": "fab260e9",
   "metadata": {},
   "source": [
    "Now since there is a large amount of data entries I will drop a lot of them to make it easier on me to deal with\n"
   ]
  },
  {
   "cell_type": "code",
   "execution_count": null,
   "id": "badf78da",
   "metadata": {},
   "outputs": [],
   "source": [
    "tweets_df=tweets_df.drop( ['quoted_status_id_str', 'quoted_status_permalink','quoted_status', 'possibly_sensitive', 'lang','quoted_status_id',\n",
    "                           'is_quote_status','geo', 'coordinates','in_reply_to_status_id_str', 'source',\n",
    "                           'truncated','display_text_range','id_str','created_at'],axis =1)\n"
   ]
  },
  {
   "cell_type": "code",
   "execution_count": null,
   "id": "7a3d2e84",
   "metadata": {},
   "outputs": [],
   "source": [
    "tweets_df.columns\n",
    "#double check the columns have been removed"
   ]
  },
  {
   "cell_type": "code",
   "execution_count": null,
   "id": "8d2fd1e5",
   "metadata": {},
   "outputs": [],
   "source": [
    "display(tweets_df.head(5)) # example of an entry\n"
   ]
  },
  {
   "cell_type": "markdown",
   "id": "60a63d72",
   "metadata": {},
   "source": [
    "I now have the issue of not knowing the name of the users but below will extract that info"
   ]
  },
  {
   "cell_type": "code",
   "execution_count": null,
   "id": "069e6a6b",
   "metadata": {},
   "outputs": [],
   "source": [
    "mention_df = tweets_df[['user', 'entities']].copy()\n",
    "\n",
    "mention_df['user_mentions'] = mention_df['entities'].apply(\n",
    "    lambda e: e['user_mentions'])\n",
    "\n",
    "mention_df.drop(['entities'], axis=1, inplace=True)\n",
    "mention_df = mention_df[mention_df['user_mentions'].map(len) != 0]\n",
    "\n",
    "mention_df['user_mentions'] = mention_df['user_mentions'].apply(\n",
    "    lambda x: [u['screen_name'].lower() for u in x])\n",
    "\n",
    "mention_df['user'] = mention_df['user'].apply(\n",
    "    lambda u: u['screen_name'].lower())\n",
    "\n",
    "mention_df"
   ]
  },
  {
   "cell_type": "markdown",
   "id": "2493af64",
   "metadata": {},
   "source": [
    ".Explode is a handy function which lets us see how many times a user has mentioned another user in one of their tweets"
   ]
  },
  {
   "cell_type": "code",
   "execution_count": null,
   "id": "c2eb235c",
   "metadata": {},
   "outputs": [],
   "source": [
    "mention_df = mention_df.explode('user_mentions')\n",
    "mention_df = pd.DataFrame(mention_df.value_counts(), columns=['number_mentions'])\n",
    "mention_df.reset_index(inplace=True)\n",
    "mention_df.head(10)"
   ]
  },
  {
   "cell_type": "markdown",
   "id": "f876061b",
   "metadata": {},
   "source": [
    "We can now create a weighted directed network like above"
   ]
  },
  {
   "cell_type": "code",
   "execution_count": null,
   "id": "6fe2a894",
   "metadata": {},
   "outputs": [],
   "source": [
    "mention_net = nx.from_pandas_edgelist(mention_df,  target='user_mentions'\n",
    "                                      ,source='user',edge_attr='number_mentions',create_using=nx.DiGraph)"
   ]
  },
  {
   "cell_type": "code",
   "execution_count": null,
   "id": "b4124bf4",
   "metadata": {},
   "outputs": [],
   "source": [
    "print(\"Number of nodes\",mention_net.number_of_nodes())"
   ]
  },
  {
   "cell_type": "code",
   "execution_count": null,
   "id": "1e090e05",
   "metadata": {},
   "outputs": [],
   "source": [
    "print(\"Number of edges\",mention_net.number_of_edges()) "
   ]
  },
  {
   "cell_type": "code",
   "execution_count": null,
   "id": "06098781",
   "metadata": {},
   "outputs": [],
   "source": [
    "print(nx.is_strongly_connected(mention_net))"
   ]
  },
  {
   "cell_type": "markdown",
   "id": "28854730",
   "metadata": {},
   "source": [
    "- Strongly connected networks are ones that if every vertex is reachable from every other vertex, in this case the network is not strongly connected\n"
   ]
  },
  {
   "cell_type": "code",
   "execution_count": null,
   "id": "390bef26",
   "metadata": {},
   "outputs": [],
   "source": [
    "print(\"%3f\" %nx.density(mention_net))"
   ]
  },
  {
   "cell_type": "code",
   "execution_count": null,
   "id": "3fd055a0",
   "metadata": {},
   "outputs": [],
   "source": [
    "print(\"Number of strongly connected components:\",nx.number_strongly_connected_components(mention_net))\n"
   ]
  },
  {
   "cell_type": "code",
   "execution_count": null,
   "id": "a397bd8a",
   "metadata": {},
   "outputs": [],
   "source": [
    "print(\"Number of weakly connected components: \", nx.number_weakly_connected_components(mention_net))\n"
   ]
  },
  {
   "cell_type": "code",
   "execution_count": null,
   "id": "db25945a",
   "metadata": {},
   "outputs": [],
   "source": [
    "print(\"Density %.10f\" % nx.density(mention_net))\n"
   ]
  },
  {
   "cell_type": "code",
   "execution_count": null,
   "id": "55893ac2",
   "metadata": {},
   "outputs": [],
   "source": [
    "indegree2 = inDegree(mention_net)\n",
    "indegree2.head()"
   ]
  },
  {
   "cell_type": "code",
   "execution_count": null,
   "id": "da6fa94b",
   "metadata": {},
   "outputs": [],
   "source": [
    "outdegree2 = outDegree(mention_net)\n",
    "outdegree2.head()"
   ]
  },
  {
   "cell_type": "markdown",
   "id": "4c6c4b28",
   "metadata": {},
   "source": [
    "Compared to the last network we can see a huge diffrence.\n",
    "- This network is much larger with much less density of connected nodes\n",
    "- Think of the last network being a group of friends and who they would call friends and this network is an entire college's friend network\n",
    "- Only 0.0006% accounts mention eachother in this network which is extremely low"
   ]
  },
  {
   "cell_type": "markdown",
   "id": "631e3c67",
   "metadata": {},
   "source": [
    "#### Clustering Co-Efficent\n",
    "- Can easily reuse the code from assignment 1\n",
    "- Average clustering would be a better measure to use as there is manny points with a cluster score of 0 which can throw off measures"
   ]
  },
  {
   "cell_type": "code",
   "execution_count": null,
   "id": "4f4adb87",
   "metadata": {},
   "outputs": [],
   "source": [
    "print(\"Average Clustering Coefficient:\",nx.average_clustering(mention_net))\n"
   ]
  },
  {
   "cell_type": "markdown",
   "id": "28720248",
   "metadata": {},
   "source": [
    "The local clustering of each node in mention_net is the \n",
    "fraction of triangles that actually exist over \n",
    "all possible triangles in its neighborhood.\n",
    "The average clustering coefficient of a graph \n",
    "mention_net is the mean of local clusterings.\n",
    "- https://www.geeksforgeeks.org/clustering-coefficient-graph-theory/#:~:text=The%20local%20clustering%20of%20each,the%20mean%20of%20local%20clusterings.\n",
    "  "
   ]
  },
  {
   "cell_type": "markdown",
   "id": "27333162",
   "metadata": {},
   "source": [
    "As we can see this network is far greater than the csv file we had in task1"
   ]
  },
  {
   "cell_type": "markdown",
   "id": "762352ef",
   "metadata": {},
   "source": [
    "\n"
   ]
  },
  {
   "cell_type": "markdown",
   "id": "795f8803",
   "metadata": {},
   "source": [
    "#### Plotting distribution of in_degree "
   ]
  },
  {
   "cell_type": "markdown",
   "id": "c6e3bbc1",
   "metadata": {},
   "source": [
    "plt.figure(figsize=(20, 10))\n",
    "sn.histplot(data=indegree2,color='lightblue', x ='In Degree', y= 'Occurrence')\n",
    "plt.xlabel('In Degree',size= 10)\n",
    "plt.ylabel('Occurrence',size=10)\n",
    "plt.title(label = \"Distribution of In Degree Across All Nodes\", fontsize = 20)\n",
    "\n",
    "plt.show()"
   ]
  },
  {
   "cell_type": "code",
   "execution_count": null,
   "id": "0b094603",
   "metadata": {},
   "outputs": [],
   "source": []
  },
  {
   "cell_type": "markdown",
   "id": "b6458d97",
   "metadata": {},
   "source": []
  },
  {
   "cell_type": "code",
   "execution_count": null,
   "id": "f2eb908f",
   "metadata": {},
   "outputs": [],
   "source": []
  },
  {
   "cell_type": "code",
   "execution_count": null,
   "id": "2db52007",
   "metadata": {},
   "outputs": [],
   "source": []
  },
  {
   "cell_type": "code",
   "execution_count": null,
   "id": "a966ddb5",
   "metadata": {},
   "outputs": [],
   "source": []
  },
  {
   "cell_type": "code",
   "execution_count": null,
   "id": "a2638554",
   "metadata": {},
   "outputs": [],
   "source": []
  },
  {
   "cell_type": "markdown",
   "id": "1c043499",
   "metadata": {},
   "source": [
    "## Reply Network \n",
    "- Task 3 "
   ]
  },
  {
   "cell_type": "code",
   "execution_count": null,
   "id": "84e28860",
   "metadata": {},
   "outputs": [],
   "source": []
  },
  {
   "cell_type": "code",
   "execution_count": null,
   "id": "cd912d5a",
   "metadata": {},
   "outputs": [],
   "source": []
  },
  {
   "cell_type": "markdown",
   "id": "122707c5",
   "metadata": {},
   "source": [
    "## User-hashtag Network \n",
    "- Task 4"
   ]
  },
  {
   "cell_type": "code",
   "execution_count": null,
   "id": "6ac0abd8",
   "metadata": {},
   "outputs": [],
   "source": []
  },
  {
   "cell_type": "code",
   "execution_count": null,
   "id": "f2ace44b",
   "metadata": {},
   "outputs": [],
   "source": []
  },
  {
   "cell_type": "markdown",
   "id": "3794e333",
   "metadata": {},
   "source": [
    "## Hash-tag Co-occurrence Network \n",
    "- Task 5 "
   ]
  },
  {
   "cell_type": "code",
   "execution_count": null,
   "id": "86c8f9e5",
   "metadata": {},
   "outputs": [],
   "source": []
  },
  {
   "cell_type": "code",
   "execution_count": null,
   "id": "6f37b0ad",
   "metadata": {},
   "outputs": [],
   "source": []
  },
  {
   "cell_type": "code",
   "execution_count": null,
   "id": "e2291e3c",
   "metadata": {},
   "outputs": [],
   "source": []
  }
 ],
 "metadata": {
  "kernelspec": {
   "display_name": "Python 3",
   "language": "python",
   "name": "python3"
  },
  "language_info": {
   "codemirror_mode": {
    "name": "ipython",
    "version": 3
   },
   "file_extension": ".py",
   "mimetype": "text/x-python",
   "name": "python",
   "nbconvert_exporter": "python",
   "pygments_lexer": "ipython3",
   "version": "3.8.8"
  }
 },
 "nbformat": 4,
 "nbformat_minor": 5
}
